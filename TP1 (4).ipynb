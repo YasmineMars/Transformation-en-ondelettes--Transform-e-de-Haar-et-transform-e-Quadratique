{
 "cells": [
  {
   "cell_type": "code",
   "execution_count": 39,
   "metadata": {
    "colab": {},
    "colab_type": "code",
    "id": "-w3_ohvMkjHj"
   },
   "outputs": [],
   "source": [
    "import numpy as np\n",
    "import math as math\n",
    "import matplotlib.pyplot as plt\n",
    "\n",
    "\n",
    "##Fonctions de Haar \n",
    "\n",
    "\n",
    "def haarl_1d_direction(n,u):\n",
    "\tv= np.zeros((n),float)\n",
    "\tv= np.copy(u)\n",
    "\ts= (2.0)\n",
    "\tw= np.zeros((n))\n",
    "\tm=n\n",
    "\n",
    "\twhile(1<m) :\n",
    "\t\tm= int(np.floor(m/2))\n",
    "\t\tw[0:m] = (v[0:2*m-1:2] + v[1:2*m:2])/s\n",
    "\t\tw[m:m+m] = (v[0:2*m-1:2] - v[1:2*m:2]) / s\n",
    "\t\tv[0:m+m:1] = w[0:m+m:1]\n",
    "\n",
    "\treturn v\n",
    "\n",
    "def ex3(n):\n",
    "\tx= np.zeros((n))\n",
    "\tfor i in range (int(n/2), n):\n",
    "\t\tx[i] = 0.5\n",
    "\treturn x\n",
    "\n",
    "def ex1(n):\n",
    "\tx= np.zeros((n))\n",
    "\tfor i in range (n):\n",
    "\t\tx[i] = i+1\n",
    "\treturn x\n",
    "\n",
    "def ex2(n,x):\n",
    "    v= np.zeros((n))\n",
    "    pi = math.pi\n",
    "    for i in range(0,len(x)):\n",
    "        if i < len(x)/2:  \n",
    "            v[i]=math.sin(2*pi*x[i])\n",
    "        else:\n",
    "            v[i]=0.5+math.sin(2*pi*x[i])\n",
    "    return v\n",
    "\n",
    "def haarl_1d_inverse(n,u):\n",
    "\tv= np.zeros((n),float)\n",
    "\tv= np.copy(u)\n",
    "\tw= np.zeros((n))\n",
    "\tm=1\n",
    "\n",
    "\twhile m < n:\n",
    "\t\tw[0:2*m:2] = ( v[0:m] + v[m:2*m])\n",
    "\t\tw[1:2*m:2] = ( v[0:m] - v[m:2*m])\n",
    "\t\tv[0:2*m] = w[0:2*m]\n",
    "\t\tm=2*m\n",
    "\t##v[1:m/2:2] = w[m/2:m:2]\n",
    "\t##v[m/2:m:2] = w[1:m/2:2]\n",
    "\treturn v\n",
    "\n",
    "def sueillage(x,T):\n",
    "\ty= np.copy(x)\n",
    "\ty[np.absolute(y)<=T]=0\n",
    "\treturn y\n",
    "\n",
    "def normeL2(x,y):\n",
    "    if len(x)!=len(y):\n",
    "        print(\"Les deux vecteurs on des tailles différente\")\n",
    "    else:\n",
    "        n=len(x)\n",
    "        v=0\n",
    "        for i in range(n):\n",
    "            v=v + np.square(np.absolute(x[i]-y[i]))\n",
    "        v= np.sqrt(v)\n",
    "        return v\n",
    "      \n",
    "size = 64 #CHoisir une valeur égale a une puissance de 2\n",
    "\n",
    "tab1 = ex1(size)\n",
    "img = [78,15,47,96,12,45,125,147,12,58,78,45,12,12,47,15,48,78,210,45,87,95,21,36,78,147,63,14,25,35,14,78,111,46,85,21,74,36,52,52,52,14,174,175,177,68,71,68,74,7,6]\n",
    "tab2 = ex2(size,img)\n",
    "tab3 = ex3(size)"
   ]
  },
  {
   "cell_type": "markdown",
   "metadata": {
    "colab_type": "text",
    "id": "tgIYcu7Gp_Dl"
   },
   "source": [
    "Exercice 3"
   ]
  },
  {
   "cell_type": "code",
   "execution_count": 40,
   "metadata": {
    "colab": {},
    "colab_type": "code",
    "id": "rSWwujpXp3gp"
   },
   "outputs": [],
   "source": [
    "def sueillage(x,T):\n",
    "\ty= np.copy(x)\n",
    "\ty[np.absolute(y)<=T]=0\n",
    "\treturn y\n",
    "\n",
    " \n",
    "haar1 = haarl_1d_direction(size,tab1)\n",
    "haar2 = haarl_1d_direction(size,tab2)\n",
    "haar3 = haarl_1d_direction(size,tab3)"
   ]
  },
  {
   "cell_type": "code",
   "execution_count": 41,
   "metadata": {
    "colab": {
     "base_uri": "https://localhost:8080/",
     "height": 219
    },
    "colab_type": "code",
    "id": "qkFWnOdpUFH9",
    "outputId": "a04f3caf-fe96-442c-d6fe-8c04d0263c17"
   },
   "outputs": [
    {
     "name": "stdout",
     "output_type": "stream",
     "text": [
      "[ 32.5 -16.    0.    0.    0.    0.    0.    0.    0.    0.    0.    0.\n",
      "   0.    0.    0.    0.    0.    0.    0.    0.    0.    0.    0.    0.\n",
      "   0.    0.    0.    0.    0.    0.    0.    0.    0.    0.    0.    0.\n",
      "   0.    0.    0.    0.    0.    0.    0.    0.    0.    0.    0.    0.\n",
      "   0.    0.    0.    0.    0.    0.    0.    0.    0.    0.    0.    0.\n",
      "   0.    0.    0.    0. ]\n"
     ]
    }
   ],
   "source": [
    "print(sueillage(haar1,12))"
   ]
  },
  {
   "cell_type": "code",
   "execution_count": 42,
   "metadata": {
    "colab": {
     "base_uri": "https://localhost:8080/",
     "height": 127
    },
    "colab_type": "code",
    "id": "KWxigWfTVKJP",
    "outputId": "6bbaa028-485e-46df-dc4d-90e36224821e"
   },
   "outputs": [
    {
     "name": "stdout",
     "output_type": "stream",
     "text": [
      "[0. 0. 0. 0. 0. 0. 0. 0. 0. 0. 0. 0. 0. 0. 0. 0. 0. 0. 0. 0. 0. 0. 0. 0.\n",
      " 0. 0. 0. 0. 0. 0. 0. 0. 0. 0. 0. 0. 0. 0. 0. 0. 0. 0. 0. 0. 0. 0. 0. 0.\n",
      " 0. 0. 0. 0. 0. 0. 0. 0. 0. 0. 0. 0. 0. 0. 0. 0.]\n"
     ]
    }
   ],
   "source": [
    " print(sueillage(haar1,128))"
   ]
  },
  {
   "cell_type": "code",
   "execution_count": 43,
   "metadata": {
    "colab": {
     "base_uri": "https://localhost:8080/",
     "height": 421
    },
    "colab_type": "code",
    "id": "5DSrr_OLVNPX",
    "outputId": "4709e047-b5ae-4ecd-9a85-ca524840f929"
   },
   "outputs": [
    {
     "name": "stdout",
     "output_type": "stream",
     "text": [
      "[0. 0. 0. 0. 0. 0. 0. 0. 0. 0. 0. 0. 0. 0. 0. 0. 0. 0. 0. 0. 0. 0. 0. 0.\n",
      " 0. 0. 0. 0. 0. 0. 0. 0. 0. 0. 0. 0. 0. 0. 0. 0. 0. 0. 0. 0. 0. 0. 0. 0.\n",
      " 0. 0. 0. 0. 0. 0. 0. 0. 0. 0. 0. 0. 0. 0. 0. 0.]\n"
     ]
    }
   ],
   "source": [
    "print(sueillage(haar2,12))"
   ]
  },
  {
   "cell_type": "code",
   "execution_count": 44,
   "metadata": {
    "colab": {
     "base_uri": "https://localhost:8080/",
     "height": 127
    },
    "colab_type": "code",
    "id": "j2vRLL-6VPGJ",
    "outputId": "a86bbb67-38b3-4615-ee8b-2ba53bcb59b8"
   },
   "outputs": [
    {
     "name": "stdout",
     "output_type": "stream",
     "text": [
      "[0. 0. 0. 0. 0. 0. 0. 0. 0. 0. 0. 0. 0. 0. 0. 0. 0. 0. 0. 0. 0. 0. 0. 0.\n",
      " 0. 0. 0. 0. 0. 0. 0. 0. 0. 0. 0. 0. 0. 0. 0. 0. 0. 0. 0. 0. 0. 0. 0. 0.\n",
      " 0. 0. 0. 0. 0. 0. 0. 0. 0. 0. 0. 0. 0. 0. 0. 0.]\n"
     ]
    }
   ],
   "source": [
    "print(sueillage(haar2,128))"
   ]
  },
  {
   "cell_type": "code",
   "execution_count": 45,
   "metadata": {
    "colab": {
     "base_uri": "https://localhost:8080/",
     "height": 127
    },
    "colab_type": "code",
    "id": "uUwmXzCWVSWI",
    "outputId": "28d06c05-e642-430a-d2b3-497a436f649d"
   },
   "outputs": [
    {
     "name": "stdout",
     "output_type": "stream",
     "text": [
      "[0. 0. 0. 0. 0. 0. 0. 0. 0. 0. 0. 0. 0. 0. 0. 0. 0. 0. 0. 0. 0. 0. 0. 0.\n",
      " 0. 0. 0. 0. 0. 0. 0. 0. 0. 0. 0. 0. 0. 0. 0. 0. 0. 0. 0. 0. 0. 0. 0. 0.\n",
      " 0. 0. 0. 0. 0. 0. 0. 0. 0. 0. 0. 0. 0. 0. 0. 0.]\n"
     ]
    }
   ],
   "source": [
    " print(sueillage(haar3,12))"
   ]
  },
  {
   "cell_type": "code",
   "execution_count": 46,
   "metadata": {
    "colab": {
     "base_uri": "https://localhost:8080/",
     "height": 127
    },
    "colab_type": "code",
    "id": "HgBm2yzvVUBR",
    "outputId": "fc53acb8-5b72-483e-ba78-09eac63f90f9"
   },
   "outputs": [
    {
     "name": "stdout",
     "output_type": "stream",
     "text": [
      "[0. 0. 0. 0. 0. 0. 0. 0. 0. 0. 0. 0. 0. 0. 0. 0. 0. 0. 0. 0. 0. 0. 0. 0.\n",
      " 0. 0. 0. 0. 0. 0. 0. 0. 0. 0. 0. 0. 0. 0. 0. 0. 0. 0. 0. 0. 0. 0. 0. 0.\n",
      " 0. 0. 0. 0. 0. 0. 0. 0. 0. 0. 0. 0. 0. 0. 0. 0.]\n"
     ]
    }
   ],
   "source": [
    "print(sueillage(haar3,128))"
   ]
  },
  {
   "cell_type": "code",
   "execution_count": 47,
   "metadata": {
    "colab": {},
    "colab_type": "code",
    "id": "m5wXx6eZp3T1"
   },
   "outputs": [],
   "source": [
    "def normeL2(x,y):\n",
    "    if len(x)!=len(y):\n",
    "        print(\"Les deux vecteurs on des tailles différente\")\n",
    "    else:\n",
    "        n=len(x)\n",
    "        v=0\n",
    "        for i in range(n):\n",
    "            v=v + np.square(np.absolute(x[i]-y[i]))\n",
    "        v= np.sqrt(v)\n",
    "        return v\n",
    "      \n",
    " \n",
    "\n",
    "haarS11 = haarl_1d_inverse(size,sueillage(haar1,12))\n",
    "haarS12 = haarl_1d_inverse(size,sueillage(haar1,128))\n",
    "\n",
    "haarS21 = haarl_1d_inverse(size,sueillage(haar2,12))\n",
    "haarS22 = haarl_1d_inverse(size,sueillage(haar2,128))\n",
    "\n",
    "haarS31 = haarl_1d_inverse(size,sueillage(haar3,12))\n",
    "haarS32 = haarl_1d_inverse(size,sueillage(haar3,128))\n"
   ]
  },
  {
   "cell_type": "code",
   "execution_count": 48,
   "metadata": {
    "colab": {
     "base_uri": "https://localhost:8080/",
     "height": 54
    },
    "colab_type": "code",
    "id": "rJbiMA1uWGHS",
    "outputId": "4c6884c6-e1cd-42b2-9bbf-38ae27440b7c"
   },
   "outputs": [
    {
     "name": "stdout",
     "output_type": "stream",
     "text": [
      "73.86474125047755\n"
     ]
    }
   ],
   "source": [
    " \n",
    "print(normeL2(tab1,haarS11))"
   ]
  },
  {
   "cell_type": "code",
   "execution_count": 49,
   "metadata": {
    "colab": {
     "base_uri": "https://localhost:8080/",
     "height": 54
    },
    "colab_type": "code",
    "id": "7dO4dJcuWF5C",
    "outputId": "1916f89a-c20f-4536-ff8b-aaffe94d5c37"
   },
   "outputs": [
    {
     "name": "stdout",
     "output_type": "stream",
     "text": [
      "299.0652102802999\n"
     ]
    }
   ],
   "source": [
    " \n",
    "print(normeL2(tab1,haarS12))"
   ]
  },
  {
   "cell_type": "code",
   "execution_count": 50,
   "metadata": {
    "colab": {
     "base_uri": "https://localhost:8080/",
     "height": 54
    },
    "colab_type": "code",
    "id": "S6-EQyMuWFxD",
    "outputId": "c2e229bd-7750-49e0-b733-7eca96af1b71"
   },
   "outputs": [
    {
     "name": "stdout",
     "output_type": "stream",
     "text": [
      "2.4999999999999516\n"
     ]
    }
   ],
   "source": [
    " \n",
    "print(normeL2(tab2,haarS21))"
   ]
  },
  {
   "cell_type": "code",
   "execution_count": 51,
   "metadata": {
    "colab": {
     "base_uri": "https://localhost:8080/",
     "height": 54
    },
    "colab_type": "code",
    "id": "RHWt6XZdWFBA",
    "outputId": "e5755d36-2d79-4e74-fa41-42ac237286d9"
   },
   "outputs": [
    {
     "name": "stdout",
     "output_type": "stream",
     "text": [
      "2.4999999999999516\n"
     ]
    }
   ],
   "source": [
    " \n",
    "print(normeL2(tab2,haarS22))"
   ]
  },
  {
   "cell_type": "code",
   "execution_count": 52,
   "metadata": {
    "colab": {
     "base_uri": "https://localhost:8080/",
     "height": 54
    },
    "colab_type": "code",
    "id": "Au4lU7LjWELR",
    "outputId": "ba9cdfd5-03fa-4f5b-f8cb-6358c1b8e59a"
   },
   "outputs": [
    {
     "name": "stdout",
     "output_type": "stream",
     "text": [
      "2.8284271247461903\n"
     ]
    }
   ],
   "source": [
    " \n",
    "print(normeL2(tab3,haarS31))"
   ]
  },
  {
   "cell_type": "code",
   "execution_count": 53,
   "metadata": {
    "colab": {
     "base_uri": "https://localhost:8080/",
     "height": 54
    },
    "colab_type": "code",
    "id": "Wx7Xb5w9WDnu",
    "outputId": "f08d17f4-7ea5-4fe7-ff2d-0cc7e0612b89"
   },
   "outputs": [
    {
     "name": "stdout",
     "output_type": "stream",
     "text": [
      "2.8284271247461903\n"
     ]
    }
   ],
   "source": [
    " \n",
    "print(normeL2(tab3,haarS32))"
   ]
  },
  {
   "cell_type": "markdown",
   "metadata": {
    "colab_type": "text",
    "id": "pckrPaNecpE-"
   },
   "source": [
    "Haarl"
   ]
  },
  {
   "cell_type": "code",
   "execution_count": 54,
   "metadata": {
    "colab": {
     "base_uri": "https://localhost:8080/",
     "height": 295
    },
    "colab_type": "code",
    "id": "qY4MpjpkcESe",
    "outputId": "c7ac4a2b-2031-4f87-fd6b-c893f76138ea"
   },
   "outputs": [
    {
     "data": {
      "image/png": "[encoded data removed]",
      "text/plain": [
       "<Figure size 432x288 with 1 Axes>"
      ]
     },
     "metadata": {
      "needs_background": "light"
     },
     "output_type": "display_data"
    }
   ],
   "source": [
    "t = ex1(128)\n",
    "tab4 = np.zeros((128))\n",
    "\n",
    "for i in range(128):\n",
    "  tab4[i-1] = normeL2(tab1,haarl_1d_inverse(size,sueillage(haar1,i)))\n",
    "\n",
    "plt.scatter(t,tab4)\n",
    "plt.title('Qualité de reconstruction de haarl en fonction de sueillage')\n",
    "plt.xlabel('Sueil')\n",
    "plt.ylabel('Erreur')\n",
    "plt.show()"
   ]
  },
  {
   "cell_type": "markdown",
   "metadata": {
    "colab_type": "text",
    "id": "7Pb_jFD7cvCX"
   },
   "source": [
    "Haarl"
   ]
  },
  {
   "cell_type": "code",
   "execution_count": 55,
   "metadata": {
    "colab": {
     "base_uri": "https://localhost:8080/",
     "height": 295
    },
    "colab_type": "code",
    "id": "N0HUdz0wcbz_",
    "outputId": "63303b79-ebc2-4a02-c979-d4ed4f84b017"
   },
   "outputs": [
    {
     "data": {
      "image/png": "[encoded data removed]",
      "text/plain": [
       "<Figure size 432x288 with 1 Axes>"
      ]
     },
     "metadata": {
      "needs_background": "light"
     },
     "output_type": "display_data"
    }
   ],
   "source": [
    "t = ex1(128)\n",
    "tab4 = np.zeros((128))\n",
    "\n",
    "for i in range(128):\n",
    "  tab4[i-1] = normeL2(tab2,haarl_1d_inverse(size,sueillage(haar2,i)))\n",
    "\n",
    "plt.scatter(t,tab4)\n",
    "plt.title('Qualité de reconstruction de haarl en fonction de sueillage')\n",
    "plt.xlabel('Sueil')\n",
    "plt.ylabel('Erreur')\n",
    "plt.show()"
   ]
  },
  {
   "cell_type": "markdown",
   "metadata": {
    "colab_type": "text",
    "id": "iRpSM5Unc9Bm"
   },
   "source": [
    "Haarl"
   ]
  },
  {
   "cell_type": "code",
   "execution_count": 56,
   "metadata": {
    "colab": {
     "base_uri": "https://localhost:8080/",
     "height": 295
    },
    "colab_type": "code",
    "id": "8BYhTSZHcgI0",
    "outputId": "7902af84-ae3d-4957-c4c1-b1dc4d456f91"
   },
   "outputs": [
    {
     "data": {
      "image/png": "[encoded data removed]",
      "text/plain": [
       "<Figure size 432x288 with 1 Axes>"
      ]
     },
     "metadata": {
      "needs_background": "light"
     },
     "output_type": "display_data"
    }
   ],
   "source": [
    "t = ex1(128)\n",
    "tab4 = np.zeros((128))\n",
    "\n",
    "for i in range(128):\n",
    "  tab4[i-1] = normeL2(tab3,haarl_1d_inverse(size,sueillage(haar3,i)))\n",
    "\n",
    "plt.scatter(t,tab4)\n",
    "plt.title('Qualité de reconstruction de haarl en fonction de sueillage')\n",
    "plt.xlabel('Sueil')\n",
    "plt.ylabel('Erreur')\n",
    "plt.show()"
   ]
  },
  {
   "cell_type": "code",
   "execution_count": null,
   "metadata": {},
   "outputs": [],
   "source": []
  },
  {
   "cell_type": "code",
   "execution_count": null,
   "metadata": {},
   "outputs": [],
   "source": []
  },
  {
   "cell_type": "code",
   "execution_count": null,
   "metadata": {},
   "outputs": [],
   "source": []
  }
 ],
 "metadata": {
  "colab": {
   "collapsed_sections": [],
   "name": "TP2.ipynb",
   "provenance": []
  },
  "kernelspec": {
   "display_name": "Python 3",
   "language": "python",
   "name": "python3"
  },
  "language_info": {
   "codemirror_mode": {
    "name": "ipython",
    "version": 3
   },
   "file_extension": ".py",
   "mimetype": "text/x-python",
   "name": "python",
   "nbconvert_exporter": "python",
   "pygments_lexer": "ipython3",
   "version": "3.7.8"
  }
 },
 "nbformat": 4,
 "nbformat_minor": 4
}
